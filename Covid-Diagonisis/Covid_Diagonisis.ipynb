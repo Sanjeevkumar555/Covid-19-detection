{
  "nbformat": 4,
  "nbformat_minor": 0,
  "metadata": {
    "colab": {
      "name": "Covid Diagonisis.ipynb",
      "provenance": []
    },
    "kernelspec": {
      "name": "python3",
      "display_name": "Python 3"
    },
    "language_info": {
      "name": "python"
    }
  },
  "cells": [
    {
      "cell_type": "code",
      "metadata": {
        "id": "iKdkVIPrSEZB"
      },
      "source": [
        "import numpy as np \n",
        "import pandas as pd\n",
        "import matplotlib.pyplot as plt"
      ],
      "execution_count": 1,
      "outputs": []
    },
    {
      "cell_type": "code",
      "metadata": {
        "colab": {
          "base_uri": "https://localhost:8080/",
          "height": 309
        },
        "id": "z-jAjoK7v6ob",
        "outputId": "a429dc65-0644-4e78-dcc5-8d95337b0e03"
      },
      "source": [
        "df = pd.read_csv('/content/sample_data/Covid Dataset.csv')\n",
        "df.head()"
      ],
      "execution_count": 2,
      "outputs": [
        {
          "output_type": "execute_result",
          "data": {
            "text/html": [
              "<div>\n",
              "<style scoped>\n",
              "    .dataframe tbody tr th:only-of-type {\n",
              "        vertical-align: middle;\n",
              "    }\n",
              "\n",
              "    .dataframe tbody tr th {\n",
              "        vertical-align: top;\n",
              "    }\n",
              "\n",
              "    .dataframe thead th {\n",
              "        text-align: right;\n",
              "    }\n",
              "</style>\n",
              "<table border=\"1\" class=\"dataframe\">\n",
              "  <thead>\n",
              "    <tr style=\"text-align: right;\">\n",
              "      <th></th>\n",
              "      <th>Breathing Problem</th>\n",
              "      <th>Fever</th>\n",
              "      <th>Dry Cough</th>\n",
              "      <th>Sore throat</th>\n",
              "      <th>Running Nose</th>\n",
              "      <th>Asthma</th>\n",
              "      <th>Chronic Lung Disease</th>\n",
              "      <th>Headache</th>\n",
              "      <th>Heart Disease</th>\n",
              "      <th>Diabetes</th>\n",
              "      <th>Hyper Tension</th>\n",
              "      <th>Fatigue</th>\n",
              "      <th>Gastrointestinal</th>\n",
              "      <th>Abroad travel</th>\n",
              "      <th>Contact with COVID Patient</th>\n",
              "      <th>Attended Large Gathering</th>\n",
              "      <th>Visited Public Exposed Places</th>\n",
              "      <th>Family working in Public Exposed Places</th>\n",
              "      <th>Wearing Masks</th>\n",
              "      <th>Sanitization from Market</th>\n",
              "      <th>COVID-19</th>\n",
              "    </tr>\n",
              "  </thead>\n",
              "  <tbody>\n",
              "    <tr>\n",
              "      <th>0</th>\n",
              "      <td>Yes</td>\n",
              "      <td>Yes</td>\n",
              "      <td>Yes</td>\n",
              "      <td>Yes</td>\n",
              "      <td>Yes</td>\n",
              "      <td>No</td>\n",
              "      <td>No</td>\n",
              "      <td>No</td>\n",
              "      <td>No</td>\n",
              "      <td>Yes</td>\n",
              "      <td>Yes</td>\n",
              "      <td>Yes</td>\n",
              "      <td>Yes</td>\n",
              "      <td>No</td>\n",
              "      <td>Yes</td>\n",
              "      <td>No</td>\n",
              "      <td>Yes</td>\n",
              "      <td>Yes</td>\n",
              "      <td>No</td>\n",
              "      <td>No</td>\n",
              "      <td>Yes</td>\n",
              "    </tr>\n",
              "    <tr>\n",
              "      <th>1</th>\n",
              "      <td>Yes</td>\n",
              "      <td>Yes</td>\n",
              "      <td>Yes</td>\n",
              "      <td>Yes</td>\n",
              "      <td>No</td>\n",
              "      <td>Yes</td>\n",
              "      <td>Yes</td>\n",
              "      <td>Yes</td>\n",
              "      <td>No</td>\n",
              "      <td>No</td>\n",
              "      <td>No</td>\n",
              "      <td>Yes</td>\n",
              "      <td>No</td>\n",
              "      <td>No</td>\n",
              "      <td>No</td>\n",
              "      <td>Yes</td>\n",
              "      <td>Yes</td>\n",
              "      <td>No</td>\n",
              "      <td>No</td>\n",
              "      <td>No</td>\n",
              "      <td>Yes</td>\n",
              "    </tr>\n",
              "    <tr>\n",
              "      <th>2</th>\n",
              "      <td>Yes</td>\n",
              "      <td>Yes</td>\n",
              "      <td>Yes</td>\n",
              "      <td>Yes</td>\n",
              "      <td>Yes</td>\n",
              "      <td>Yes</td>\n",
              "      <td>Yes</td>\n",
              "      <td>Yes</td>\n",
              "      <td>No</td>\n",
              "      <td>Yes</td>\n",
              "      <td>No</td>\n",
              "      <td>Yes</td>\n",
              "      <td>Yes</td>\n",
              "      <td>Yes</td>\n",
              "      <td>No</td>\n",
              "      <td>No</td>\n",
              "      <td>No</td>\n",
              "      <td>No</td>\n",
              "      <td>No</td>\n",
              "      <td>No</td>\n",
              "      <td>Yes</td>\n",
              "    </tr>\n",
              "    <tr>\n",
              "      <th>3</th>\n",
              "      <td>Yes</td>\n",
              "      <td>Yes</td>\n",
              "      <td>Yes</td>\n",
              "      <td>No</td>\n",
              "      <td>No</td>\n",
              "      <td>Yes</td>\n",
              "      <td>No</td>\n",
              "      <td>No</td>\n",
              "      <td>Yes</td>\n",
              "      <td>Yes</td>\n",
              "      <td>No</td>\n",
              "      <td>No</td>\n",
              "      <td>No</td>\n",
              "      <td>Yes</td>\n",
              "      <td>No</td>\n",
              "      <td>Yes</td>\n",
              "      <td>Yes</td>\n",
              "      <td>No</td>\n",
              "      <td>No</td>\n",
              "      <td>No</td>\n",
              "      <td>Yes</td>\n",
              "    </tr>\n",
              "    <tr>\n",
              "      <th>4</th>\n",
              "      <td>Yes</td>\n",
              "      <td>Yes</td>\n",
              "      <td>Yes</td>\n",
              "      <td>Yes</td>\n",
              "      <td>Yes</td>\n",
              "      <td>No</td>\n",
              "      <td>Yes</td>\n",
              "      <td>Yes</td>\n",
              "      <td>Yes</td>\n",
              "      <td>Yes</td>\n",
              "      <td>Yes</td>\n",
              "      <td>No</td>\n",
              "      <td>Yes</td>\n",
              "      <td>No</td>\n",
              "      <td>Yes</td>\n",
              "      <td>No</td>\n",
              "      <td>Yes</td>\n",
              "      <td>No</td>\n",
              "      <td>No</td>\n",
              "      <td>No</td>\n",
              "      <td>Yes</td>\n",
              "    </tr>\n",
              "  </tbody>\n",
              "</table>\n",
              "</div>"
            ],
            "text/plain": [
              "  Breathing Problem Fever  ... Sanitization from Market COVID-19\n",
              "0               Yes   Yes  ...                       No      Yes\n",
              "1               Yes   Yes  ...                       No      Yes\n",
              "2               Yes   Yes  ...                       No      Yes\n",
              "3               Yes   Yes  ...                       No      Yes\n",
              "4               Yes   Yes  ...                       No      Yes\n",
              "\n",
              "[5 rows x 21 columns]"
            ]
          },
          "metadata": {},
          "execution_count": 2
        }
      ]
    },
    {
      "cell_type": "code",
      "metadata": {
        "colab": {
          "base_uri": "https://localhost:8080/"
        },
        "id": "CxP6Y2EZw_pm",
        "outputId": "9f3962cc-7686-41b1-94c1-e3b2f4465af1"
      },
      "source": [
        "df.shape"
      ],
      "execution_count": 4,
      "outputs": [
        {
          "output_type": "execute_result",
          "data": {
            "text/plain": [
              "(5434, 21)"
            ]
          },
          "metadata": {},
          "execution_count": 4
        }
      ]
    },
    {
      "cell_type": "markdown",
      "metadata": {
        "id": "xqkBpmgKxB2y"
      },
      "source": [
        "*We have data of  5434 volunteers 21  features*"
      ]
    },
    {
      "cell_type": "markdown",
      "metadata": {
        "id": "wUj4KA2uzfrt"
      },
      "source": [
        "***DATA PREPROCESSING***"
      ]
    },
    {
      "cell_type": "code",
      "metadata": {
        "colab": {
          "base_uri": "https://localhost:8080/"
        },
        "id": "A6Vuxav4wGrm",
        "outputId": "0163323f-3133-439b-d8ed-301ba2bea5bd"
      },
      "source": [
        "df.isnull().any()"
      ],
      "execution_count": 3,
      "outputs": [
        {
          "output_type": "execute_result",
          "data": {
            "text/plain": [
              "Breathing Problem                          False\n",
              "Fever                                      False\n",
              "Dry Cough                                  False\n",
              "Sore throat                                False\n",
              "Running Nose                               False\n",
              "Asthma                                     False\n",
              "Chronic Lung Disease                       False\n",
              "Headache                                   False\n",
              "Heart Disease                              False\n",
              "Diabetes                                   False\n",
              "Hyper Tension                              False\n",
              "Fatigue                                    False\n",
              "Gastrointestinal                           False\n",
              "Abroad travel                              False\n",
              "Contact with COVID Patient                 False\n",
              "Attended Large Gathering                   False\n",
              "Visited Public Exposed Places              False\n",
              "Family working in Public Exposed Places    False\n",
              "Wearing Masks                              False\n",
              "Sanitization from Market                   False\n",
              "COVID-19                                   False\n",
              "dtype: bool"
            ]
          },
          "metadata": {},
          "execution_count": 3
        }
      ]
    },
    {
      "cell_type": "markdown",
      "metadata": {
        "id": "2SjR3CaYwWn-"
      },
      "source": [
        "*So we see there is no Null values , Even if it were there we could have removed the  feature  or equally distributed among the classes*"
      ]
    },
    {
      "cell_type": "code",
      "metadata": {
        "colab": {
          "base_uri": "https://localhost:8080/",
          "height": 309
        },
        "id": "5sp4PTkzwn8e",
        "outputId": "81c136a6-0fec-4990-f81f-e2b53227a21e"
      },
      "source": [
        "df.replace(to_replace = ['Yes','No'],\n",
        "                 value =[1,0],inplace = True)\n",
        "\n",
        "df.head()"
      ],
      "execution_count": 9,
      "outputs": [
        {
          "output_type": "execute_result",
          "data": {
            "text/html": [
              "<div>\n",
              "<style scoped>\n",
              "    .dataframe tbody tr th:only-of-type {\n",
              "        vertical-align: middle;\n",
              "    }\n",
              "\n",
              "    .dataframe tbody tr th {\n",
              "        vertical-align: top;\n",
              "    }\n",
              "\n",
              "    .dataframe thead th {\n",
              "        text-align: right;\n",
              "    }\n",
              "</style>\n",
              "<table border=\"1\" class=\"dataframe\">\n",
              "  <thead>\n",
              "    <tr style=\"text-align: right;\">\n",
              "      <th></th>\n",
              "      <th>Breathing Problem</th>\n",
              "      <th>Fever</th>\n",
              "      <th>Dry Cough</th>\n",
              "      <th>Sore throat</th>\n",
              "      <th>Running Nose</th>\n",
              "      <th>Asthma</th>\n",
              "      <th>Chronic Lung Disease</th>\n",
              "      <th>Headache</th>\n",
              "      <th>Heart Disease</th>\n",
              "      <th>Diabetes</th>\n",
              "      <th>Hyper Tension</th>\n",
              "      <th>Fatigue</th>\n",
              "      <th>Gastrointestinal</th>\n",
              "      <th>Abroad travel</th>\n",
              "      <th>Contact with COVID Patient</th>\n",
              "      <th>Attended Large Gathering</th>\n",
              "      <th>Visited Public Exposed Places</th>\n",
              "      <th>Family working in Public Exposed Places</th>\n",
              "      <th>Wearing Masks</th>\n",
              "      <th>Sanitization from Market</th>\n",
              "      <th>COVID-19</th>\n",
              "    </tr>\n",
              "  </thead>\n",
              "  <tbody>\n",
              "    <tr>\n",
              "      <th>0</th>\n",
              "      <td>1</td>\n",
              "      <td>1</td>\n",
              "      <td>1</td>\n",
              "      <td>1</td>\n",
              "      <td>1</td>\n",
              "      <td>0</td>\n",
              "      <td>0</td>\n",
              "      <td>0</td>\n",
              "      <td>0</td>\n",
              "      <td>1</td>\n",
              "      <td>1</td>\n",
              "      <td>1</td>\n",
              "      <td>1</td>\n",
              "      <td>0</td>\n",
              "      <td>1</td>\n",
              "      <td>0</td>\n",
              "      <td>1</td>\n",
              "      <td>1</td>\n",
              "      <td>0</td>\n",
              "      <td>0</td>\n",
              "      <td>1</td>\n",
              "    </tr>\n",
              "    <tr>\n",
              "      <th>1</th>\n",
              "      <td>1</td>\n",
              "      <td>1</td>\n",
              "      <td>1</td>\n",
              "      <td>1</td>\n",
              "      <td>0</td>\n",
              "      <td>1</td>\n",
              "      <td>1</td>\n",
              "      <td>1</td>\n",
              "      <td>0</td>\n",
              "      <td>0</td>\n",
              "      <td>0</td>\n",
              "      <td>1</td>\n",
              "      <td>0</td>\n",
              "      <td>0</td>\n",
              "      <td>0</td>\n",
              "      <td>1</td>\n",
              "      <td>1</td>\n",
              "      <td>0</td>\n",
              "      <td>0</td>\n",
              "      <td>0</td>\n",
              "      <td>1</td>\n",
              "    </tr>\n",
              "    <tr>\n",
              "      <th>2</th>\n",
              "      <td>1</td>\n",
              "      <td>1</td>\n",
              "      <td>1</td>\n",
              "      <td>1</td>\n",
              "      <td>1</td>\n",
              "      <td>1</td>\n",
              "      <td>1</td>\n",
              "      <td>1</td>\n",
              "      <td>0</td>\n",
              "      <td>1</td>\n",
              "      <td>0</td>\n",
              "      <td>1</td>\n",
              "      <td>1</td>\n",
              "      <td>1</td>\n",
              "      <td>0</td>\n",
              "      <td>0</td>\n",
              "      <td>0</td>\n",
              "      <td>0</td>\n",
              "      <td>0</td>\n",
              "      <td>0</td>\n",
              "      <td>1</td>\n",
              "    </tr>\n",
              "    <tr>\n",
              "      <th>3</th>\n",
              "      <td>1</td>\n",
              "      <td>1</td>\n",
              "      <td>1</td>\n",
              "      <td>0</td>\n",
              "      <td>0</td>\n",
              "      <td>1</td>\n",
              "      <td>0</td>\n",
              "      <td>0</td>\n",
              "      <td>1</td>\n",
              "      <td>1</td>\n",
              "      <td>0</td>\n",
              "      <td>0</td>\n",
              "      <td>0</td>\n",
              "      <td>1</td>\n",
              "      <td>0</td>\n",
              "      <td>1</td>\n",
              "      <td>1</td>\n",
              "      <td>0</td>\n",
              "      <td>0</td>\n",
              "      <td>0</td>\n",
              "      <td>1</td>\n",
              "    </tr>\n",
              "    <tr>\n",
              "      <th>4</th>\n",
              "      <td>1</td>\n",
              "      <td>1</td>\n",
              "      <td>1</td>\n",
              "      <td>1</td>\n",
              "      <td>1</td>\n",
              "      <td>0</td>\n",
              "      <td>1</td>\n",
              "      <td>1</td>\n",
              "      <td>1</td>\n",
              "      <td>1</td>\n",
              "      <td>1</td>\n",
              "      <td>0</td>\n",
              "      <td>1</td>\n",
              "      <td>0</td>\n",
              "      <td>1</td>\n",
              "      <td>0</td>\n",
              "      <td>1</td>\n",
              "      <td>0</td>\n",
              "      <td>0</td>\n",
              "      <td>0</td>\n",
              "      <td>1</td>\n",
              "    </tr>\n",
              "  </tbody>\n",
              "</table>\n",
              "</div>"
            ],
            "text/plain": [
              "   Breathing Problem  Fever  ...  Sanitization from Market  COVID-19\n",
              "0                  1      1  ...                         0         1\n",
              "1                  1      1  ...                         0         1\n",
              "2                  1      1  ...                         0         1\n",
              "3                  1      1  ...                         0         1\n",
              "4                  1      1  ...                         0         1\n",
              "\n",
              "[5 rows x 21 columns]"
            ]
          },
          "metadata": {},
          "execution_count": 9
        }
      ]
    },
    {
      "cell_type": "code",
      "metadata": {
        "colab": {
          "base_uri": "https://localhost:8080/",
          "height": 333
        },
        "id": "Rkka06pYzqPe",
        "outputId": "01ba7231-fa6e-4b83-8ed4-31c9aafa92e5"
      },
      "source": [
        "import  seaborn as sns\n",
        "sns.countplot(df['COVID-19'])\n",
        "plt.show()"
      ],
      "execution_count": 24,
      "outputs": [
        {
          "output_type": "stream",
          "name": "stderr",
          "text": [
            "/usr/local/lib/python3.7/dist-packages/seaborn/_decorators.py:43: FutureWarning: Pass the following variable as a keyword arg: x. From version 0.12, the only valid positional argument will be `data`, and passing other arguments without an explicit keyword will result in an error or misinterpretation.\n",
            "  FutureWarning\n"
          ]
        },
        {
          "output_type": "display_data",
          "data": {
            "image/png": "[encoded data removed]",
            "text/plain": [
              "<Figure size 432x288 with 1 Axes>"
            ]
          },
          "metadata": {
            "needs_background": "light"
          }
        }
      ]
    },
    {
      "cell_type": "code",
      "metadata": {
        "colab": {
          "base_uri": "https://localhost:8080/",
          "height": 975
        },
        "id": "94w9OlXb3JZ9",
        "outputId": "bcadfddc-2684-4e31-bea8-8cd1582599ff"
      },
      "source": [
        "cor_M = df.corr()\n",
        "cor_M"
      ],
      "execution_count": 28,
      "outputs": [
        {
          "output_type": "execute_result",
          "data": {
            "text/html": [
              "<div>\n",
              "<style scoped>\n",
              "    .dataframe tbody tr th:only-of-type {\n",
              "        vertical-align: middle;\n",
              "    }\n",
              "\n",
              "    .dataframe tbody tr th {\n",
              "        vertical-align: top;\n",
              "    }\n",
              "\n",
              "    .dataframe thead th {\n",
              "        text-align: right;\n",
              "    }\n",
              "</style>\n",
              "<table border=\"1\" class=\"dataframe\">\n",
              "  <thead>\n",
              "    <tr style=\"text-align: right;\">\n",
              "      <th></th>\n",
              "      <th>Breathing Problem</th>\n",
              "      <th>Fever</th>\n",
              "      <th>Dry Cough</th>\n",
              "      <th>Sore throat</th>\n",
              "      <th>Running Nose</th>\n",
              "      <th>Asthma</th>\n",
              "      <th>Chronic Lung Disease</th>\n",
              "      <th>Headache</th>\n",
              "      <th>Heart Disease</th>\n",
              "      <th>Diabetes</th>\n",
              "      <th>Hyper Tension</th>\n",
              "      <th>Fatigue</th>\n",
              "      <th>Gastrointestinal</th>\n",
              "      <th>Abroad travel</th>\n",
              "      <th>Contact with COVID Patient</th>\n",
              "      <th>Attended Large Gathering</th>\n",
              "      <th>Visited Public Exposed Places</th>\n",
              "      <th>Family working in Public Exposed Places</th>\n",
              "      <th>Wearing Masks</th>\n",
              "      <th>Sanitization from Market</th>\n",
              "      <th>COVID-19</th>\n",
              "    </tr>\n",
              "  </thead>\n",
              "  <tbody>\n",
              "    <tr>\n",
              "      <th>Breathing Problem</th>\n",
              "      <td>1.000000</td>\n",
              "      <td>0.089903</td>\n",
              "      <td>0.159562</td>\n",
              "      <td>0.303768</td>\n",
              "      <td>0.055190</td>\n",
              "      <td>0.075318</td>\n",
              "      <td>-0.098291</td>\n",
              "      <td>-0.062172</td>\n",
              "      <td>-0.073366</td>\n",
              "      <td>0.055427</td>\n",
              "      <td>0.045256</td>\n",
              "      <td>0.000561</td>\n",
              "      <td>-0.075390</td>\n",
              "      <td>0.117795</td>\n",
              "      <td>0.214634</td>\n",
              "      <td>0.200304</td>\n",
              "      <td>0.066688</td>\n",
              "      <td>0.018295</td>\n",
              "      <td>NaN</td>\n",
              "      <td>NaN</td>\n",
              "      <td>0.443764</td>\n",
              "    </tr>\n",
              "    <tr>\n",
              "      <th>Fever</th>\n",
              "      <td>0.089903</td>\n",
              "      <td>1.000000</td>\n",
              "      <td>0.127580</td>\n",
              "      <td>0.322235</td>\n",
              "      <td>0.081758</td>\n",
              "      <td>0.073953</td>\n",
              "      <td>-0.025160</td>\n",
              "      <td>-0.035416</td>\n",
              "      <td>-0.031462</td>\n",
              "      <td>0.050286</td>\n",
              "      <td>0.079001</td>\n",
              "      <td>-0.060458</td>\n",
              "      <td>-0.008067</td>\n",
              "      <td>0.128726</td>\n",
              "      <td>0.164704</td>\n",
              "      <td>0.070490</td>\n",
              "      <td>0.002252</td>\n",
              "      <td>0.012102</td>\n",
              "      <td>NaN</td>\n",
              "      <td>NaN</td>\n",
              "      <td>0.352891</td>\n",
              "    </tr>\n",
              "    <tr>\n",
              "      <th>Dry Cough</th>\n",
              "      <td>0.159562</td>\n",
              "      <td>0.127580</td>\n",
              "      <td>1.000000</td>\n",
              "      <td>0.213907</td>\n",
              "      <td>-0.030763</td>\n",
              "      <td>0.086843</td>\n",
              "      <td>-0.043664</td>\n",
              "      <td>-0.035912</td>\n",
              "      <td>0.047566</td>\n",
              "      <td>-0.006593</td>\n",
              "      <td>0.081989</td>\n",
              "      <td>-0.039909</td>\n",
              "      <td>0.008251</td>\n",
              "      <td>0.331418</td>\n",
              "      <td>0.128330</td>\n",
              "      <td>0.117963</td>\n",
              "      <td>0.086176</td>\n",
              "      <td>0.163102</td>\n",
              "      <td>NaN</td>\n",
              "      <td>NaN</td>\n",
              "      <td>0.464292</td>\n",
              "    </tr>\n",
              "    <tr>\n",
              "      <th>Sore throat</th>\n",
              "      <td>0.303768</td>\n",
              "      <td>0.322235</td>\n",
              "      <td>0.213907</td>\n",
              "      <td>1.000000</td>\n",
              "      <td>0.039450</td>\n",
              "      <td>0.081377</td>\n",
              "      <td>-0.050440</td>\n",
              "      <td>-0.015971</td>\n",
              "      <td>0.002177</td>\n",
              "      <td>0.001938</td>\n",
              "      <td>0.042811</td>\n",
              "      <td>-0.023290</td>\n",
              "      <td>0.025886</td>\n",
              "      <td>0.205986</td>\n",
              "      <td>0.189251</td>\n",
              "      <td>0.216438</td>\n",
              "      <td>0.079055</td>\n",
              "      <td>0.104378</td>\n",
              "      <td>NaN</td>\n",
              "      <td>NaN</td>\n",
              "      <td>0.502848</td>\n",
              "    </tr>\n",
              "    <tr>\n",
              "      <th>Running Nose</th>\n",
              "      <td>0.055190</td>\n",
              "      <td>0.081758</td>\n",
              "      <td>-0.030763</td>\n",
              "      <td>0.039450</td>\n",
              "      <td>1.000000</td>\n",
              "      <td>-0.022763</td>\n",
              "      <td>-0.014376</td>\n",
              "      <td>0.068479</td>\n",
              "      <td>-0.056750</td>\n",
              "      <td>0.042961</td>\n",
              "      <td>-0.020445</td>\n",
              "      <td>0.007026</td>\n",
              "      <td>-0.014673</td>\n",
              "      <td>0.034526</td>\n",
              "      <td>0.003776</td>\n",
              "      <td>0.061099</td>\n",
              "      <td>0.032568</td>\n",
              "      <td>-0.061323</td>\n",
              "      <td>NaN</td>\n",
              "      <td>NaN</td>\n",
              "      <td>-0.005657</td>\n",
              "    </tr>\n",
              "    <tr>\n",
              "      <th>Asthma</th>\n",
              "      <td>0.075318</td>\n",
              "      <td>0.073953</td>\n",
              "      <td>0.086843</td>\n",
              "      <td>0.081377</td>\n",
              "      <td>-0.022763</td>\n",
              "      <td>1.000000</td>\n",
              "      <td>-0.033771</td>\n",
              "      <td>0.037064</td>\n",
              "      <td>0.076783</td>\n",
              "      <td>-0.012060</td>\n",
              "      <td>0.017707</td>\n",
              "      <td>0.006564</td>\n",
              "      <td>0.101909</td>\n",
              "      <td>0.068286</td>\n",
              "      <td>0.005046</td>\n",
              "      <td>-0.044592</td>\n",
              "      <td>0.020941</td>\n",
              "      <td>-0.115679</td>\n",
              "      <td>NaN</td>\n",
              "      <td>NaN</td>\n",
              "      <td>0.089930</td>\n",
              "    </tr>\n",
              "    <tr>\n",
              "      <th>Chronic Lung Disease</th>\n",
              "      <td>-0.098291</td>\n",
              "      <td>-0.025160</td>\n",
              "      <td>-0.043664</td>\n",
              "      <td>-0.050440</td>\n",
              "      <td>-0.014376</td>\n",
              "      <td>-0.033771</td>\n",
              "      <td>1.000000</td>\n",
              "      <td>-0.050480</td>\n",
              "      <td>-0.039860</td>\n",
              "      <td>0.046789</td>\n",
              "      <td>-0.010331</td>\n",
              "      <td>-0.047655</td>\n",
              "      <td>-0.050333</td>\n",
              "      <td>-0.088854</td>\n",
              "      <td>-0.062482</td>\n",
              "      <td>-0.020548</td>\n",
              "      <td>-0.093049</td>\n",
              "      <td>0.038343</td>\n",
              "      <td>NaN</td>\n",
              "      <td>NaN</td>\n",
              "      <td>-0.056837</td>\n",
              "    </tr>\n",
              "    <tr>\n",
              "      <th>Headache</th>\n",
              "      <td>-0.062172</td>\n",
              "      <td>-0.035416</td>\n",
              "      <td>-0.035912</td>\n",
              "      <td>-0.015971</td>\n",
              "      <td>0.068479</td>\n",
              "      <td>0.037064</td>\n",
              "      <td>-0.050480</td>\n",
              "      <td>1.000000</td>\n",
              "      <td>0.048471</td>\n",
              "      <td>0.032390</td>\n",
              "      <td>-0.207489</td>\n",
              "      <td>0.052035</td>\n",
              "      <td>0.097778</td>\n",
              "      <td>0.043589</td>\n",
              "      <td>-0.082101</td>\n",
              "      <td>-0.162992</td>\n",
              "      <td>-0.005790</td>\n",
              "      <td>-0.012625</td>\n",
              "      <td>NaN</td>\n",
              "      <td>NaN</td>\n",
              "      <td>-0.027793</td>\n",
              "    </tr>\n",
              "    <tr>\n",
              "      <th>Heart Disease</th>\n",
              "      <td>-0.073366</td>\n",
              "      <td>-0.031462</td>\n",
              "      <td>0.047566</td>\n",
              "      <td>0.002177</td>\n",
              "      <td>-0.056750</td>\n",
              "      <td>0.076783</td>\n",
              "      <td>-0.039860</td>\n",
              "      <td>0.048471</td>\n",
              "      <td>1.000000</td>\n",
              "      <td>-0.032956</td>\n",
              "      <td>0.049139</td>\n",
              "      <td>-0.058925</td>\n",
              "      <td>0.004121</td>\n",
              "      <td>-0.020761</td>\n",
              "      <td>-0.025593</td>\n",
              "      <td>-0.045437</td>\n",
              "      <td>0.086169</td>\n",
              "      <td>0.035000</td>\n",
              "      <td>NaN</td>\n",
              "      <td>NaN</td>\n",
              "      <td>0.027072</td>\n",
              "    </tr>\n",
              "    <tr>\n",
              "      <th>Diabetes</th>\n",
              "      <td>0.055427</td>\n",
              "      <td>0.050286</td>\n",
              "      <td>-0.006593</td>\n",
              "      <td>0.001938</td>\n",
              "      <td>0.042961</td>\n",
              "      <td>-0.012060</td>\n",
              "      <td>0.046789</td>\n",
              "      <td>0.032390</td>\n",
              "      <td>-0.032956</td>\n",
              "      <td>1.000000</td>\n",
              "      <td>0.042543</td>\n",
              "      <td>-0.043903</td>\n",
              "      <td>0.040651</td>\n",
              "      <td>0.039013</td>\n",
              "      <td>-0.085696</td>\n",
              "      <td>-0.061650</td>\n",
              "      <td>-0.078212</td>\n",
              "      <td>0.097696</td>\n",
              "      <td>NaN</td>\n",
              "      <td>NaN</td>\n",
              "      <td>0.040627</td>\n",
              "    </tr>\n",
              "    <tr>\n",
              "      <th>Hyper Tension</th>\n",
              "      <td>0.045256</td>\n",
              "      <td>0.079001</td>\n",
              "      <td>0.081989</td>\n",
              "      <td>0.042811</td>\n",
              "      <td>-0.020445</td>\n",
              "      <td>0.017707</td>\n",
              "      <td>-0.010331</td>\n",
              "      <td>-0.207489</td>\n",
              "      <td>0.049139</td>\n",
              "      <td>0.042543</td>\n",
              "      <td>1.000000</td>\n",
              "      <td>-0.027605</td>\n",
              "      <td>-0.067972</td>\n",
              "      <td>-0.016382</td>\n",
              "      <td>0.027307</td>\n",
              "      <td>0.002911</td>\n",
              "      <td>0.019174</td>\n",
              "      <td>0.048152</td>\n",
              "      <td>NaN</td>\n",
              "      <td>NaN</td>\n",
              "      <td>0.102575</td>\n",
              "    </tr>\n",
              "    <tr>\n",
              "      <th>Fatigue</th>\n",
              "      <td>0.000561</td>\n",
              "      <td>-0.060458</td>\n",
              "      <td>-0.039909</td>\n",
              "      <td>-0.023290</td>\n",
              "      <td>0.007026</td>\n",
              "      <td>0.006564</td>\n",
              "      <td>-0.047655</td>\n",
              "      <td>0.052035</td>\n",
              "      <td>-0.058925</td>\n",
              "      <td>-0.043903</td>\n",
              "      <td>-0.027605</td>\n",
              "      <td>1.000000</td>\n",
              "      <td>0.009356</td>\n",
              "      <td>-0.068401</td>\n",
              "      <td>-0.027383</td>\n",
              "      <td>-0.031058</td>\n",
              "      <td>-0.009562</td>\n",
              "      <td>-0.025623</td>\n",
              "      <td>NaN</td>\n",
              "      <td>NaN</td>\n",
              "      <td>-0.044188</td>\n",
              "    </tr>\n",
              "    <tr>\n",
              "      <th>Gastrointestinal</th>\n",
              "      <td>-0.075390</td>\n",
              "      <td>-0.008067</td>\n",
              "      <td>0.008251</td>\n",
              "      <td>0.025886</td>\n",
              "      <td>-0.014673</td>\n",
              "      <td>0.101909</td>\n",
              "      <td>-0.050333</td>\n",
              "      <td>0.097778</td>\n",
              "      <td>0.004121</td>\n",
              "      <td>0.040651</td>\n",
              "      <td>-0.067972</td>\n",
              "      <td>0.009356</td>\n",
              "      <td>1.000000</td>\n",
              "      <td>0.099577</td>\n",
              "      <td>0.025277</td>\n",
              "      <td>-0.017251</td>\n",
              "      <td>-0.061885</td>\n",
              "      <td>-0.027603</td>\n",
              "      <td>NaN</td>\n",
              "      <td>NaN</td>\n",
              "      <td>-0.003367</td>\n",
              "    </tr>\n",
              "    <tr>\n",
              "      <th>Abroad travel</th>\n",
              "      <td>0.117795</td>\n",
              "      <td>0.128726</td>\n",
              "      <td>0.331418</td>\n",
              "      <td>0.205986</td>\n",
              "      <td>0.034526</td>\n",
              "      <td>0.068286</td>\n",
              "      <td>-0.088854</td>\n",
              "      <td>0.043589</td>\n",
              "      <td>-0.020761</td>\n",
              "      <td>0.039013</td>\n",
              "      <td>-0.016382</td>\n",
              "      <td>-0.068401</td>\n",
              "      <td>0.099577</td>\n",
              "      <td>1.000000</td>\n",
              "      <td>0.080210</td>\n",
              "      <td>0.113399</td>\n",
              "      <td>0.069609</td>\n",
              "      <td>0.143094</td>\n",
              "      <td>NaN</td>\n",
              "      <td>NaN</td>\n",
              "      <td>0.443875</td>\n",
              "    </tr>\n",
              "    <tr>\n",
              "      <th>Contact with COVID Patient</th>\n",
              "      <td>0.214634</td>\n",
              "      <td>0.164704</td>\n",
              "      <td>0.128330</td>\n",
              "      <td>0.189251</td>\n",
              "      <td>0.003776</td>\n",
              "      <td>0.005046</td>\n",
              "      <td>-0.062482</td>\n",
              "      <td>-0.082101</td>\n",
              "      <td>-0.025593</td>\n",
              "      <td>-0.085696</td>\n",
              "      <td>0.027307</td>\n",
              "      <td>-0.027383</td>\n",
              "      <td>0.025277</td>\n",
              "      <td>0.080210</td>\n",
              "      <td>1.000000</td>\n",
              "      <td>0.234649</td>\n",
              "      <td>0.079800</td>\n",
              "      <td>0.006909</td>\n",
              "      <td>NaN</td>\n",
              "      <td>NaN</td>\n",
              "      <td>0.357122</td>\n",
              "    </tr>\n",
              "    <tr>\n",
              "      <th>Attended Large Gathering</th>\n",
              "      <td>0.200304</td>\n",
              "      <td>0.070490</td>\n",
              "      <td>0.117963</td>\n",
              "      <td>0.216438</td>\n",
              "      <td>0.061099</td>\n",
              "      <td>-0.044592</td>\n",
              "      <td>-0.020548</td>\n",
              "      <td>-0.162992</td>\n",
              "      <td>-0.045437</td>\n",
              "      <td>-0.061650</td>\n",
              "      <td>0.002911</td>\n",
              "      <td>-0.031058</td>\n",
              "      <td>-0.017251</td>\n",
              "      <td>0.113399</td>\n",
              "      <td>0.234649</td>\n",
              "      <td>1.000000</td>\n",
              "      <td>0.083795</td>\n",
              "      <td>0.063776</td>\n",
              "      <td>NaN</td>\n",
              "      <td>NaN</td>\n",
              "      <td>0.390145</td>\n",
              "    </tr>\n",
              "    <tr>\n",
              "      <th>Visited Public Exposed Places</th>\n",
              "      <td>0.066688</td>\n",
              "      <td>0.002252</td>\n",
              "      <td>0.086176</td>\n",
              "      <td>0.079055</td>\n",
              "      <td>0.032568</td>\n",
              "      <td>0.020941</td>\n",
              "      <td>-0.093049</td>\n",
              "      <td>-0.005790</td>\n",
              "      <td>0.086169</td>\n",
              "      <td>-0.078212</td>\n",
              "      <td>0.019174</td>\n",
              "      <td>-0.009562</td>\n",
              "      <td>-0.061885</td>\n",
              "      <td>0.069609</td>\n",
              "      <td>0.079800</td>\n",
              "      <td>0.083795</td>\n",
              "      <td>1.000000</td>\n",
              "      <td>0.028486</td>\n",
              "      <td>NaN</td>\n",
              "      <td>NaN</td>\n",
              "      <td>0.119755</td>\n",
              "    </tr>\n",
              "    <tr>\n",
              "      <th>Family working in Public Exposed Places</th>\n",
              "      <td>0.018295</td>\n",
              "      <td>0.012102</td>\n",
              "      <td>0.163102</td>\n",
              "      <td>0.104378</td>\n",
              "      <td>-0.061323</td>\n",
              "      <td>-0.115679</td>\n",
              "      <td>0.038343</td>\n",
              "      <td>-0.012625</td>\n",
              "      <td>0.035000</td>\n",
              "      <td>0.097696</td>\n",
              "      <td>0.048152</td>\n",
              "      <td>-0.025623</td>\n",
              "      <td>-0.027603</td>\n",
              "      <td>0.143094</td>\n",
              "      <td>0.006909</td>\n",
              "      <td>0.063776</td>\n",
              "      <td>0.028486</td>\n",
              "      <td>1.000000</td>\n",
              "      <td>NaN</td>\n",
              "      <td>NaN</td>\n",
              "      <td>0.160208</td>\n",
              "    </tr>\n",
              "    <tr>\n",
              "      <th>Wearing Masks</th>\n",
              "      <td>NaN</td>\n",
              "      <td>NaN</td>\n",
              "      <td>NaN</td>\n",
              "      <td>NaN</td>\n",
              "      <td>NaN</td>\n",
              "      <td>NaN</td>\n",
              "      <td>NaN</td>\n",
              "      <td>NaN</td>\n",
              "      <td>NaN</td>\n",
              "      <td>NaN</td>\n",
              "      <td>NaN</td>\n",
              "      <td>NaN</td>\n",
              "      <td>NaN</td>\n",
              "      <td>NaN</td>\n",
              "      <td>NaN</td>\n",
              "      <td>NaN</td>\n",
              "      <td>NaN</td>\n",
              "      <td>NaN</td>\n",
              "      <td>NaN</td>\n",
              "      <td>NaN</td>\n",
              "      <td>NaN</td>\n",
              "    </tr>\n",
              "    <tr>\n",
              "      <th>Sanitization from Market</th>\n",
              "      <td>NaN</td>\n",
              "      <td>NaN</td>\n",
              "      <td>NaN</td>\n",
              "      <td>NaN</td>\n",
              "      <td>NaN</td>\n",
              "      <td>NaN</td>\n",
              "      <td>NaN</td>\n",
              "      <td>NaN</td>\n",
              "      <td>NaN</td>\n",
              "      <td>NaN</td>\n",
              "      <td>NaN</td>\n",
              "      <td>NaN</td>\n",
              "      <td>NaN</td>\n",
              "      <td>NaN</td>\n",
              "      <td>NaN</td>\n",
              "      <td>NaN</td>\n",
              "      <td>NaN</td>\n",
              "      <td>NaN</td>\n",
              "      <td>NaN</td>\n",
              "      <td>NaN</td>\n",
              "      <td>NaN</td>\n",
              "    </tr>\n",
              "    <tr>\n",
              "      <th>COVID-19</th>\n",
              "      <td>0.443764</td>\n",
              "      <td>0.352891</td>\n",
              "      <td>0.464292</td>\n",
              "      <td>0.502848</td>\n",
              "      <td>-0.005657</td>\n",
              "      <td>0.089930</td>\n",
              "      <td>-0.056837</td>\n",
              "      <td>-0.027793</td>\n",
              "      <td>0.027072</td>\n",
              "      <td>0.040627</td>\n",
              "      <td>0.102575</td>\n",
              "      <td>-0.044188</td>\n",
              "      <td>-0.003367</td>\n",
              "      <td>0.443875</td>\n",
              "      <td>0.357122</td>\n",
              "      <td>0.390145</td>\n",
              "      <td>0.119755</td>\n",
              "      <td>0.160208</td>\n",
              "      <td>NaN</td>\n",
              "      <td>NaN</td>\n",
              "      <td>1.000000</td>\n",
              "    </tr>\n",
              "  </tbody>\n",
              "</table>\n",
              "</div>"
            ],
            "text/plain": [
              "                                         Breathing Problem  ...  COVID-19\n",
              "Breathing Problem                                 1.000000  ...  0.443764\n",
              "Fever                                             0.089903  ...  0.352891\n",
              "Dry Cough                                         0.159562  ...  0.464292\n",
              "Sore throat                                       0.303768  ...  0.502848\n",
              "Running Nose                                      0.055190  ... -0.005657\n",
              "Asthma                                            0.075318  ...  0.089930\n",
              "Chronic Lung Disease                             -0.098291  ... -0.056837\n",
              "Headache                                         -0.062172  ... -0.027793\n",
              "Heart Disease                                    -0.073366  ...  0.027072\n",
              "Diabetes                                          0.055427  ...  0.040627\n",
              "Hyper Tension                                     0.045256  ...  0.102575\n",
              "Fatigue                                           0.000561  ... -0.044188\n",
              "Gastrointestinal                                 -0.075390  ... -0.003367\n",
              "Abroad travel                                     0.117795  ...  0.443875\n",
              "Contact with COVID Patient                        0.214634  ...  0.357122\n",
              "Attended Large Gathering                          0.200304  ...  0.390145\n",
              "Visited Public Exposed Places                     0.066688  ...  0.119755\n",
              "Family working in Public Exposed Places           0.018295  ...  0.160208\n",
              "Wearing Masks                                          NaN  ...       NaN\n",
              "Sanitization from Market                               NaN  ...       NaN\n",
              "COVID-19                                          0.443764  ...  1.000000\n",
              "\n",
              "[21 rows x 21 columns]"
            ]
          },
          "metadata": {},
          "execution_count": 28
        }
      ]
    },
    {
      "cell_type": "markdown",
      "metadata": {
        "id": "WGc6DQeg3fSv"
      },
      "source": [
        "*Not required are the features ones having negative or zero correlation in  the 'COVID-19' column. These features are'nt gonna be a deciding factor in diagnosis*"
      ]
    },
    {
      "cell_type": "code",
      "metadata": {
        "colab": {
          "base_uri": "https://localhost:8080/"
        },
        "id": "bfVglKUo3VYL",
        "outputId": "6b139675-f195-4296-d2ed-2d3622cbc6e3"
      },
      "source": [
        "Uzlessfeatures = cor_M[(cor_M['COVID-19'] <= 0) | (cor_M['COVID-19'].isnull())]\n",
        "ind = Uzlessfeatures.index\n",
        "print('Useless Features : ',ind)"
      ],
      "execution_count": 56,
      "outputs": [
        {
          "output_type": "stream",
          "name": "stdout",
          "text": [
            "Useless Features :  Index(['Running Nose', 'Chronic Lung Disease', 'Headache', 'Fatigue ',\n",
            "       'Gastrointestinal ', 'Wearing Masks', 'Sanitization from Market'],\n",
            "      dtype='object')\n"
          ]
        }
      ]
    },
    {
      "cell_type": "code",
      "metadata": {
        "colab": {
          "base_uri": "https://localhost:8080/"
        },
        "id": "98WlsyUu698i",
        "outputId": "7bf0ab1e-e850-4c2e-af4e-37d0cfb73948"
      },
      "source": [
        "df = df.drop(ind,axis=1)\n",
        "df.shape"
      ],
      "execution_count": 55,
      "outputs": [
        {
          "output_type": "execute_result",
          "data": {
            "text/plain": [
              "(5434, 14)"
            ]
          },
          "metadata": {},
          "execution_count": 55
        }
      ]
    },
    {
      "cell_type": "markdown",
      "metadata": {
        "id": "kci-syk97odp"
      },
      "source": [
        "*gettign Input and  outut  columns from DataFrame*"
      ]
    },
    {
      "cell_type": "code",
      "metadata": {
        "id": "toX4GJFq7ady"
      },
      "source": [
        "X = df.iloc[:,0:13]\n",
        "y = df.iloc[:,13]"
      ],
      "execution_count": 69,
      "outputs": []
    },
    {
      "cell_type": "markdown",
      "metadata": {
        "id": "PfTlL6ID12Pl"
      },
      "source": [
        "*The dataset is quite imbalanced , To balance the dataset I use SMOT technique*"
      ]
    },
    {
      "cell_type": "code",
      "metadata": {
        "colab": {
          "base_uri": "https://localhost:8080/"
        },
        "id": "1ghAf_by1-m3",
        "outputId": "2c3b4a46-c77f-4d42-9e71-4d1b532c2de0"
      },
      "source": [
        "import sklearn\n",
        "from imblearn.over_sampling import SMOTE\n",
        "sm = SMOTE()\n",
        "X,y = sm.fit_resample(X,y)"
      ],
      "execution_count": 71,
      "outputs": [
        {
          "output_type": "stream",
          "name": "stderr",
          "text": [
            "/usr/local/lib/python3.7/dist-packages/sklearn/utils/deprecation.py:87: FutureWarning: Function safe_indexing is deprecated; safe_indexing is deprecated in version 0.22 and will be removed in version 0.24.\n",
            "  warnings.warn(msg, category=FutureWarning)\n"
          ]
        }
      ]
    },
    {
      "cell_type": "code",
      "metadata": {
        "colab": {
          "base_uri": "https://localhost:8080/",
          "height": 319
        },
        "id": "snOc36Ab86Js",
        "outputId": "5600b7c4-09ab-44ff-a331-0686467907d2"
      },
      "source": [
        "sns.countplot(y)\n",
        "plt.show()"
      ],
      "execution_count": 73,
      "outputs": [
        {
          "output_type": "stream",
          "name": "stderr",
          "text": [
            "/usr/local/lib/python3.7/dist-packages/seaborn/_decorators.py:43: FutureWarning: Pass the following variable as a keyword arg: x. From version 0.12, the only valid positional argument will be `data`, and passing other arguments without an explicit keyword will result in an error or misinterpretation.\n",
            "  FutureWarning\n"
          ]
        },
        {
          "output_type": "display_data",
          "data": {
            "image/png": "[encoded data removed]",
            "text/plain": [
              "<Figure size 432x288 with 1 Axes>"
            ]
          },
          "metadata": {
            "needs_background": "light"
          }
        }
      ]
    },
    {
      "cell_type": "markdown",
      "metadata": {
        "id": "tpboHaHM9gW7"
      },
      "source": [
        "*We can see the both the classes has been matched*"
      ]
    },
    {
      "cell_type": "markdown",
      "metadata": {
        "id": "Z6Y2J-Ox9ouM"
      },
      "source": [
        "***Model Building***"
      ]
    },
    {
      "cell_type": "code",
      "metadata": {
        "id": "ilyM-f9L9tJN"
      },
      "source": [
        "from sklearn.model_selection import train_test_split\n",
        "X_train,X_test,y_train,y_test=train_test_split(X,y,test_size=0.3)"
      ],
      "execution_count": 102,
      "outputs": []
    },
    {
      "cell_type": "markdown",
      "metadata": {
        "id": "8zNIyeZMBuhF"
      },
      "source": [
        "**Decision Tree**"
      ]
    },
    {
      "cell_type": "code",
      "metadata": {
        "colab": {
          "base_uri": "https://localhost:8080/"
        },
        "id": "N1snD_dzBwnU",
        "outputId": "741a720f-9f0f-46f6-b6e0-9cb2ce025100"
      },
      "source": [
        "from sklearn import tree\n",
        "dtmodel = tree.DecisionTreeClassifier()\n",
        "dtmodel.fit(X_train,y_train)\n",
        "acc_dt= dtmodel.score(X_test,y_test)\n",
        "print(acc_dt)"
      ],
      "execution_count": 103,
      "outputs": [
        {
          "output_type": "stream",
          "name": "stdout",
          "text": [
            "0.9847908745247148\n"
          ]
        }
      ]
    },
    {
      "cell_type": "markdown",
      "metadata": {
        "id": "wWAzekitAoEg"
      },
      "source": [
        "**Random Forest**"
      ]
    },
    {
      "cell_type": "code",
      "metadata": {
        "colab": {
          "base_uri": "https://localhost:8080/"
        },
        "id": "HvwBZ6v2AnUs",
        "outputId": "9be71f1a-9075-4df7-f742-689e319ab7f5"
      },
      "source": [
        "from sklearn.ensemble import RandomForestRegressor\n",
        "model = RandomForestRegressor(n_estimators=1000)\n",
        "model.fit(X_train, y_train)\n",
        "acc_randomforest=model.score(X_test, y_test)\n",
        "print(acc_randomforest)"
      ],
      "execution_count": 104,
      "outputs": [
        {
          "output_type": "stream",
          "name": "stdout",
          "text": [
            "0.9478183748310931\n"
          ]
        }
      ]
    },
    {
      "cell_type": "markdown",
      "metadata": {
        "id": "ryd8V_m5BT3R"
      },
      "source": [
        "**K-Neighours**"
      ]
    },
    {
      "cell_type": "code",
      "metadata": {
        "colab": {
          "base_uri": "https://localhost:8080/"
        },
        "id": "FY4J1q-aBWzn",
        "outputId": "f1cc7b40-74f6-47aa-d384-270e492e0feb"
      },
      "source": [
        "from sklearn.neighbors import KNeighborsClassifier\n",
        "knn = KNeighborsClassifier(n_neighbors=10)\n",
        "knn.fit(X_train, y_train)\n",
        "y_pred = knn.predict(x_test)\n",
        "#Score/Accuracy\n",
        "acc_knn=knn.score(X_test, y_test)\n",
        "acc_knn"
      ],
      "execution_count": 105,
      "outputs": [
        {
          "output_type": "execute_result",
          "data": {
            "text/plain": [
              "0.9756653992395438"
            ]
          },
          "metadata": {},
          "execution_count": 105
        }
      ]
    },
    {
      "cell_type": "markdown",
      "metadata": {
        "id": "HItGEMkh9uq9"
      },
      "source": [
        "**SVM with Linear Kernel**"
      ]
    },
    {
      "cell_type": "code",
      "metadata": {
        "id": "UXYvJ_uW_kYF"
      },
      "source": [
        "from sklearn.svm import SVC\n",
        "svclassifier = SVC(kernel='linear')\n",
        "svclassifier.fit(X_train, y_train)"
      ],
      "execution_count": null,
      "outputs": []
    },
    {
      "cell_type": "code",
      "metadata": {
        "colab": {
          "base_uri": "https://localhost:8080/"
        },
        "id": "iraR3L_U_niZ",
        "outputId": "0bde54d7-8c1c-4860-b4d0-e21159039992"
      },
      "source": [
        "from sklearn.metrics import accuracy_score,confusion_matrix\n",
        "y_pred = svclassifier.predict(X_test)\n",
        "acc_svcL = accuracy_score(y_test,y_pred)\n",
        "print(acc_svcL)"
      ],
      "execution_count": 112,
      "outputs": [
        {
          "output_type": "stream",
          "name": "stdout",
          "text": [
            "0.955893536121673\n"
          ]
        }
      ]
    },
    {
      "cell_type": "markdown",
      "metadata": {
        "id": "fkL_U3sYAH0h"
      },
      "source": [
        "**SVM with Gaussian Kernel**"
      ]
    },
    {
      "cell_type": "code",
      "metadata": {
        "colab": {
          "base_uri": "https://localhost:8080/"
        },
        "id": "29hyLKCl9_1J",
        "outputId": "d1c6e73c-e90f-456f-9ce1-6aae8306ea01"
      },
      "source": [
        "from sklearn.svm import SVC\n",
        "svclassifier = SVC(kernel='rbf')\n",
        "svclassifier.fit(X_train, y_train)\n",
        "y_predg = svclassifier.predict(X_test)\n",
        "acc_svcG = accuracy_score(y_test,y_predg)\n",
        "print(acc_svcG)"
      ],
      "execution_count": 113,
      "outputs": [
        {
          "output_type": "stream",
          "name": "stdout",
          "text": [
            "0.9844106463878327\n"
          ]
        }
      ]
    },
    {
      "cell_type": "code",
      "metadata": {
        "colab": {
          "base_uri": "https://localhost:8080/",
          "height": 204
        },
        "id": "RvPQuX3D9mx3",
        "outputId": "a2f69bbf-f911-4862-b143-e3e2f96c316c"
      },
      "source": [
        "models = pd.DataFrame({\n",
        "    'Model': ['Support Vector Machines-Linear', 'Support Vector Machines-Gaussian','KNN',  \n",
        "              'Random Forest',   'Decision Tree'],\n",
        "    'Score': [acc_svcL,acc_svcG, acc_knn,\n",
        "              acc_randomforest,  acc_dt,\n",
        "               ]})\n",
        "models.sort_values(by='Score', ascending=False)"
      ],
      "execution_count": 115,
      "outputs": [
        {
          "output_type": "execute_result",
          "data": {
            "text/html": [
              "<div>\n",
              "<style scoped>\n",
              "    .dataframe tbody tr th:only-of-type {\n",
              "        vertical-align: middle;\n",
              "    }\n",
              "\n",
              "    .dataframe tbody tr th {\n",
              "        vertical-align: top;\n",
              "    }\n",
              "\n",
              "    .dataframe thead th {\n",
              "        text-align: right;\n",
              "    }\n",
              "</style>\n",
              "<table border=\"1\" class=\"dataframe\">\n",
              "  <thead>\n",
              "    <tr style=\"text-align: right;\">\n",
              "      <th></th>\n",
              "      <th>Model</th>\n",
              "      <th>Score</th>\n",
              "    </tr>\n",
              "  </thead>\n",
              "  <tbody>\n",
              "    <tr>\n",
              "      <th>4</th>\n",
              "      <td>Decision Tree</td>\n",
              "      <td>0.984791</td>\n",
              "    </tr>\n",
              "    <tr>\n",
              "      <th>1</th>\n",
              "      <td>Support Vector Machines-Gaussian</td>\n",
              "      <td>0.984411</td>\n",
              "    </tr>\n",
              "    <tr>\n",
              "      <th>2</th>\n",
              "      <td>KNN</td>\n",
              "      <td>0.975665</td>\n",
              "    </tr>\n",
              "    <tr>\n",
              "      <th>0</th>\n",
              "      <td>Support Vector Machines-Linear</td>\n",
              "      <td>0.955894</td>\n",
              "    </tr>\n",
              "    <tr>\n",
              "      <th>3</th>\n",
              "      <td>Random Forest</td>\n",
              "      <td>0.947818</td>\n",
              "    </tr>\n",
              "  </tbody>\n",
              "</table>\n",
              "</div>"
            ],
            "text/plain": [
              "                              Model     Score\n",
              "4                     Decision Tree  0.984791\n",
              "1  Support Vector Machines-Gaussian  0.984411\n",
              "2                               KNN  0.975665\n",
              "0    Support Vector Machines-Linear  0.955894\n",
              "3                     Random Forest  0.947818"
            ]
          },
          "metadata": {},
          "execution_count": 115
        }
      ]
    }
  ]
}